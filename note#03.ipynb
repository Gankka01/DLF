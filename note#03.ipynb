{
 "cells": [
  {
   "cell_type": "code",
   "execution_count": 68,
   "id": "88679328-afc8-4eee-90f8-852a3e036e1b",
   "metadata": {},
   "outputs": [],
   "source": [
    "from IPython.display import Image"
   ]
  },
  {
   "cell_type": "markdown",
   "id": "712a4cfa-0064-44d3-813f-65988485a6fb",
   "metadata": {},
   "source": [
    "# (이전 주차) 테스트 유닛"
   ]
  },
  {
   "cell_type": "code",
   "execution_count": 3,
   "id": "011f2d02-c3e3-41ac-b082-29cb27aef62c",
   "metadata": {},
   "outputs": [],
   "source": [
    "import unittest\n",
    "import numpy as np\n",
    "import pandas as pd\n",
    "\n",
    "def numerical_diff(f, x, eps=1e-4):\n",
    "    x0 = Variable(x.data - eps)\n",
    "    x1 = Variable(x.data + eps)\n",
    "    y0 = f(x0)\n",
    "    y1 = f(x1)\n",
    "    return (y1.data - y0.data) / (2 * eps)\n",
    "\n",
    "class SquareTest(unittest.TestCase):\n",
    "    def test_forward(self):\n",
    "        x = Variable(np.array(2.0))\n",
    "        y = square(x)\n",
    "        expected = np.array(4.0)\n",
    "        self.assertEqual(y.data, expected)\n",
    "\n",
    "    def test_backward(self):\n",
    "        x = Variable(np.array(3.0))\n",
    "        y = square(x)\n",
    "        y.backward()\n",
    "        expected = np.array(6.0)\n",
    "        self.assertEqual(x.grad, expected)\n",
    "\n",
    "    def test_gradient_check(self):\n",
    "        x = Variable(np.random.rand(1))\n",
    "        y = square(x)\n",
    "        y.backward()\n",
    "        num_grad = numerical_diff(square, x)\n",
    "        fig = np.allclose(x.grid, num_grad)\n",
    "        self.assertTrue(fig)"
   ]
  },
  {
   "cell_type": "markdown",
   "id": "b9e9131a-2b70-408c-ab0d-de834769753b",
   "metadata": {},
   "source": [
    "## 모듈 import / variable 가져오기"
   ]
  },
  {
   "cell_type": "code",
   "execution_count": 4,
   "id": "95d43376-7793-4cb4-92eb-d3d366ca116c",
   "metadata": {},
   "outputs": [],
   "source": [
    "import numpy as np\n",
    "import pandas as pd\n",
    "import matplotlib.pyplot as plt\n",
    "\n",
    "class Variable:\n",
    "    def __init__(self, data):\n",
    "        if data is not None:\n",
    "            if not isinstance(data, np.ndarray):\n",
    "                raise TypeError(f'{type(data)} is noe surpported')\n",
    "        self.data = data\n",
    "        self.grad = None\n",
    "        self.creator = None\n",
    "\n",
    "    def set_creator(self, func):\n",
    "        self.creator = func\n",
    "\n",
    "    def backward(self):\n",
    "        if self.grad is None:\n",
    "            self.grad = np.ones_like(self.data)   # self.data와 self.grad의 타입을 맞춤\n",
    "\n",
    "        funcs = [self.creator]\n",
    "        while funcs:\n",
    "            f = funcs.pop()\n",
    "            x, y = f.input, f.output\n",
    "            x.grad = f.backward(y.grad)\n",
    "\n",
    "            if x.creator is not None:\n",
    "                funcs.append(x.creator)"
   ]
  },
  {
   "cell_type": "markdown",
   "id": "5f512ef8-c85d-4865-9a8a-dec8c233a640",
   "metadata": {},
   "source": [
    "# 챕터 11 가변 길이 인수 (순전파)"
   ]
  },
  {
   "cell_type": "code",
   "execution_count": 33,
   "id": "68cd068a-ef49-4af3-8e08-2f50b88c100d",
   "metadata": {},
   "outputs": [],
   "source": [
    "class Function:\n",
    "    def __call__(self, *inputs):\n",
    "        xs = [x.data for x in inputs]\n",
    "        ys = self.forward(*xs)\n",
    "        if not isinstance(ys, tuple):\n",
    "            ys = (ys,)\n",
    "        outputs = [Variable(as_array(y)) for y in ys]\n",
    "\n",
    "        for output in outputs:\n",
    "            output.set_creator(self)\n",
    "        self.inputs = inputs\n",
    "        self.outputs = outputs\n",
    "        return outputs if len(outputs) > 1 else outputs[0]\n",
    "\n",
    "    def forward(self, x):\n",
    "        raise NotImplementedError()\n",
    "\n",
    "    def backward(self, gy):\n",
    "        raise NotImplementedError()"
   ]
  },
  {
   "cell_type": "code",
   "execution_count": 32,
   "id": "0725f37c-56fd-42f2-a6f6-2296053ae030",
   "metadata": {},
   "outputs": [],
   "source": [
    "def as_array(x):\n",
    "    if np.isscalar(x):\n",
    "        return np.array(x)\n",
    "    return x"
   ]
  },
  {
   "cell_type": "code",
   "execution_count": 36,
   "id": "63b31682-0d32-4dee-9dda-5fc22c8030b3",
   "metadata": {},
   "outputs": [],
   "source": [
    "class Add(Function):\n",
    "    def forward(self, x0, x1):\n",
    "        y = x0 + x1\n",
    "        return y"
   ]
  },
  {
   "cell_type": "code",
   "execution_count": 39,
   "id": "d1e51d03-0276-4354-8a39-e010914317b1",
   "metadata": {},
   "outputs": [],
   "source": [
    "def add(x0, x1):\n",
    "    return Add()(x0, x1)"
   ]
  },
  {
   "cell_type": "code",
   "execution_count": 41,
   "id": "72ed63df-3c39-44f6-be08-77a0d9e842cd",
   "metadata": {},
   "outputs": [
    {
     "data": {
      "text/plain": [
       "array(5)"
      ]
     },
     "execution_count": 41,
     "metadata": {},
     "output_type": "execute_result"
    }
   ],
   "source": [
    "x0 = Variable(np.array(2))\n",
    "x1 = Variable(np.array(3))\n",
    "\n",
    "add(x0, x1).data"
   ]
  },
  {
   "cell_type": "markdown",
   "id": "d1482d69-6bc5-4a7d-983a-17f7b69c6577",
   "metadata": {},
   "source": [
    "# 챕터 13 가변 길이 인수 (역전파)"
   ]
  },
  {
   "cell_type": "code",
   "execution_count": 63,
   "id": "24f220dc-f04f-4d48-b026-667ac6febbd8",
   "metadata": {},
   "outputs": [],
   "source": [
    "class Variable:\n",
    "    def __init__(self, data):\n",
    "        if data is not None:\n",
    "            if not isinstance(data, np.ndarray):\n",
    "                raise TypeError(f'{type(data)} is noe surpported')\n",
    "        self.data = data\n",
    "        self.grad = None\n",
    "        self.creator = None\n",
    "\n",
    "    def set_creator(self, func):\n",
    "        self.creator = func\n",
    "\n",
    "    def backward(self):\n",
    "        if self.grad is None:\n",
    "            self.grad = np.ones_like(self.data)   # self.data와 self.grad의 타입을 맞춤\n",
    "\n",
    "        funcs = [self.creator]\n",
    "        while funcs:\n",
    "            f = funcs.pop()\n",
    "            gys = [output.grad for output in f.outputs]\n",
    "            gxs = f.backward(*gys)\n",
    "            if not isinstance(gxs, tuple):\n",
    "                gxs = (gxs, )\n",
    "            for x, gx in zip(f.inputs, gxs):\n",
    "                if x. grad is None:\n",
    "                    x.grad = gx\n",
    "                else:\n",
    "                    x.grad = x.grad + gx\n",
    "\n",
    "            if x.creator is not None:\n",
    "                funcs.append(x.creator)\n",
    "\n",
    "    def cleargrad(self):\n",
    "        self.grad = None"
   ]
  },
  {
   "cell_type": "code",
   "execution_count": 79,
   "id": "49da7658-6de0-4e79-b097-7000ff0d8779",
   "metadata": {},
   "outputs": [],
   "source": [
    "class Add(Function):\n",
    "    def forward(self, x0, x1):\n",
    "        y = x0 + x1\n",
    "        return y\n",
    "    def backward(self, gy):\n",
    "        return gy, gy"
   ]
  },
  {
   "cell_type": "code",
   "execution_count": 77,
   "id": "a8446a54-b6ac-420d-a752-7ca39a338ed8",
   "metadata": {},
   "outputs": [],
   "source": [
    "class Square(Function):\n",
    "    def forward(self, x):\n",
    "        y = x ** 2\n",
    "        return y\n",
    "\n",
    "    def backward(self, gy):\n",
    "        x = self.inputs[0].data\n",
    "        gx = 2 * x * gy\n",
    "        return gx\n",
    "\n",
    "def square(x):\n",
    "    return Square()(x)"
   ]
  },
  {
   "cell_type": "code",
   "execution_count": 49,
   "id": "58e3558b-0a26-40fd-8d0d-c91c60567b48",
   "metadata": {},
   "outputs": [
    {
     "name": "stdout",
     "output_type": "stream",
     "text": [
      "13\n",
      "None\n",
      "6\n"
     ]
    }
   ],
   "source": [
    "x = Variable(np.array(2))\n",
    "y = Variable(np.array(3))\n",
    "\n",
    "z = add(square(x), square(y))\n",
    "z.backward()\n",
    "\n",
    "print(z.data, x.grad, y.grad, sep = '\\n')"
   ]
  },
  {
   "cell_type": "code",
   "execution_count": 60,
   "id": "b80020ae-adc8-4245-9db3-74b674099c54",
   "metadata": {},
   "outputs": [
    {
     "name": "stdout",
     "output_type": "stream",
     "text": [
      "2\n"
     ]
    }
   ],
   "source": [
    "x = Variable(np.array(2))\n",
    "add(x, x).backward()\n",
    "print(x.grad)"
   ]
  },
  {
   "cell_type": "code",
   "execution_count": 64,
   "id": "87c37dac-2a25-4ef6-9be1-7644fa575864",
   "metadata": {},
   "outputs": [
    {
     "name": "stdout",
     "output_type": "stream",
     "text": [
      "1. x.grad =  2\n",
      "2. x.grad =  2\n"
     ]
    }
   ],
   "source": [
    "x = Variable(np.array(2))\n",
    "y = add(x, x)\n",
    "y.backward()\n",
    "print('1. x.grad = ', x.grad)\n",
    "\n",
    "x.cleargrad()\n",
    "y = add(x, x)\n",
    "y.backward()\n",
    "print('2. x.grad = ', x.grad)"
   ]
  },
  {
   "cell_type": "markdown",
   "id": "f7502bd1-cabf-4110-98dd-3edbfc4d13fc",
   "metadata": {},
   "source": [
    "# 챕터 15 복잡한 계산 그래프 (이론)"
   ]
  },
  {
   "cell_type": "code",
   "execution_count": 69,
   "id": "c7c11139-ebc0-452f-8420-4bed688360d3",
   "metadata": {},
   "outputs": [
    {
     "data": {
      "image/png": "[encoded data removed]",
      "text/plain": [
       "<IPython.core.display.Image object>"
      ]
     },
     "execution_count": 69,
     "metadata": {},
     "output_type": "execute_result"
    }
   ],
   "source": [
    "Image(\"googlenet.png\")"
   ]
  },
  {
   "cell_type": "markdown",
   "id": "401884d0-c458-4b71-ac82-459867eb3a93",
   "metadata": {},
   "source": [
    "## 2개의 분기가 있는 그래프를 역전파할 때\n",
    "\n",
    "* 처음에 갈라지는 분기로 돌아갈 때, 두 갈래의 역전파 경로가 합쳐져 같이 진행되어야 한다\n",
    "* 그렇지 않으면 분기가 합쳐지지 않고 동일한 노드에서 역전파가 2회 이상 일어나게 됨\n",
    "* 따라서 **함수 우선 순위**를 설정하여야 함\n",
    "* 이는 '세대'를 설정하는 것을 말함\n",
    "* 이를 통해 부모보다 자식이 먼저 처리됨을 보장할 수 있음"
   ]
  },
  {
   "cell_type": "markdown",
   "id": "153f1b2c-98ce-47d2-b545-3419d5c5d97e",
   "metadata": {},
   "source": [
    "# 챕터 16 세대 추가\n",
    "\n",
    "* 역전파 시 노드들이 꼬이지 않게 하기 위함"
   ]
  },
  {
   "cell_type": "markdown",
   "id": "1e2d276b-89be-4229-a012-74a1f35d4cb3",
   "metadata": {},
   "source": [
    "## 세대 순으로 꺼내는 방법\n",
    "\n",
    "* generation 클래스를 sort함을 통해 pop에서 꺼내지는 개체가 세대의 역순으로 꺼내지도록 한다\n",
    "* [f.generation for f in funcs] <- 예제 코드\n",
    "  "
   ]
  },
  {
   "cell_type": "code",
   "execution_count": 75,
   "id": "a7faa76e-7ba0-4b2d-9eea-aa955e17140c",
   "metadata": {},
   "outputs": [],
   "source": [
    "class Variable:\n",
    "    def __init__(self, data):\n",
    "        if data is not None:\n",
    "            if not isinstance(data, np.ndarray):\n",
    "                raise TypeError(f'{type(data)} is noe surpported')\n",
    "        self.data = data\n",
    "        self.grad = None\n",
    "        self.creator = None\n",
    "        self.generation = 0\n",
    "\n",
    "    def set_creator(self, func):\n",
    "        self.creator = func\n",
    "        self.generation = func.generation + 1\n",
    "\n",
    "    def backward(self):\n",
    "        if self.grad is None:\n",
    "            self.grad = np.ones_like(self.data)   # self.data와 self.grad의 타입을 맞춤\n",
    "\n",
    "        funcs = []\n",
    "        seen_set = set()\n",
    "\n",
    "        def add_func(f):\n",
    "            if f not in seen_set:\n",
    "                funcs.append(f)\n",
    "                seen_set.add(f)\n",
    "                funcs.sort(key=lambda x: x.generation)\n",
    "        add_func(self.creator)\n",
    "        \n",
    "        while funcs:\n",
    "            f = funcs.pop()\n",
    "            gys = [output.grad for output in f.outputs]\n",
    "            gxs = f.backward(*gys)\n",
    "            if not isinstance(gxs, tuple):\n",
    "                gxs = (gxs, )\n",
    "            for x, gx in zip(f.inputs, gxs):\n",
    "                if x. grad is None:\n",
    "                    x.grad = gx\n",
    "                else:\n",
    "                    x.grad = x.grad + gx\n",
    "\n",
    "            if x.creator is not None:\n",
    "                add_func(x.creator)\n",
    "\n",
    "    def cleargrad(self):\n",
    "        self.grad = None"
   ]
  },
  {
   "cell_type": "code",
   "execution_count": 76,
   "id": "e6420601-bcca-45c6-be4a-b13d93b9c998",
   "metadata": {},
   "outputs": [],
   "source": [
    "class Function:\n",
    "    def __call__(self, *inputs):\n",
    "        xs = [x.data for x in inputs]\n",
    "        ys = self.forward(*xs)\n",
    "        if not isinstance(ys, tuple):\n",
    "            ys = (ys,)\n",
    "        outputs = [Variable(as_array(y)) for y in ys]\n",
    "\n",
    "        self.generation = max([x.generation for x in inputs])\n",
    "        for output in outputs:\n",
    "            output.set_creator(self)\n",
    "        self.inputs = inputs\n",
    "        self.outputs = outputs\n",
    "        return outputs if len(outputs) > 1 else outputs[0]\n",
    "\n",
    "    def forward(self, x):\n",
    "        raise NotImplementedError()\n",
    "\n",
    "    def backward(self, gy):\n",
    "        raise NotImplementedError()"
   ]
  },
  {
   "cell_type": "code",
   "execution_count": 80,
   "id": "1207ce7c-f249-44f6-bf4e-502e92b2347f",
   "metadata": {},
   "outputs": [
    {
     "name": "stdout",
     "output_type": "stream",
     "text": [
      "y.data =  32.0\n",
      "x.grad =  32.0\n"
     ]
    }
   ],
   "source": [
    "x = Variable(np.array(2.0))\n",
    "a = square(x)\n",
    "y = add(square(a), square(a))\n",
    "y.backward()\n",
    "\n",
    "print('y.data = ', y.data)\n",
    "print('x.grad = ', x.grad)"
   ]
  },
  {
   "cell_type": "markdown",
   "id": "c92ff825-9f96-4590-9aa9-ef938fa84b48",
   "metadata": {},
   "source": [
    "# 챕터 17 메모리 관리와 순환 참조\n",
    "\n",
    "* 코드 작성에 따라 메모리 누수, 메모리 부족 현상이 나타남\n",
    "* 신경망은 큰 데이터를 다루기 때문에 메모리 관리를 잘 해 주어야 함\n",
    "* 파이썬의 메모리 관리 방식: 참조(reference)수 세기 / 세대를 기준으로 쓸모없어진 개체 회수하기"
   ]
  },
  {
   "cell_type": "markdown",
   "id": "e556eacf-2f4e-4270-b2de-7217e2d5a5ee",
   "metadata": {},
   "source": [
    "## 참조 카운터\n",
    "\n",
    "* 파이썬 메모리 관리의 기본적인 방식\n",
    "* 모든 객체는 참조 카운트 0인 상태로 생성, 다른 객체가 참조하면 카운트가 증가한다\n",
    "* 객체에 대한 참조가 끊길 때마다 참조가 감소하며, 0이 되면 객체를 회수\n",
    "\n",
    "## 순환 참조\n",
    "\n",
    "* 서로가 서로를 참조하는 형식\n",
    "* 참조 카운터 형식의 약점\n",
    "\n",
    "## GC garbage collection\n",
    "\n",
    "* 메모리가 부족해지는 시점에 인터프리터에 의해 자동으로 호출됨\n",
    "* GC에 할당 해제를 미루면 메모리 사용량이 커지게 됨\n",
    "* 따라서 순환 참조를 만들지 않는 것이 가장 좋음"
   ]
  },
  {
   "cell_type": "markdown",
   "id": "cbd4e30f-6cce-414e-9580-c3e2562b3179",
   "metadata": {},
   "source": [
    "그래서 등장한\n",
    "\n",
    "## 약한 참조 (weak reference)\n",
    "\n",
    "* 다른 객체는 참조하되 참조 카운터는 증가시키지 않는 기능\n",
    "* 파이썬에서는 weakref.ref 함수를 사용\n",
    "* 예시"
   ]
  },
  {
   "cell_type": "code",
   "execution_count": 1,
   "id": "a3e00243-305a-4aa9-86ba-1dc81b8ad6d6",
   "metadata": {},
   "outputs": [
    {
     "data": {
      "text/plain": [
       "<weakref at 0x0000029F6A48E070; to 'numpy.ndarray' at 0x0000029F6B082DF0>"
      ]
     },
     "execution_count": 1,
     "metadata": {},
     "output_type": "execute_result"
    }
   ],
   "source": [
    "import weakref\n",
    "import numpy as np\n",
    "a = np.array([1, 2, 3])\n",
    "b = weakref.ref(a)\n",
    "b"
   ]
  },
  {
   "cell_type": "code",
   "execution_count": 2,
   "id": "3f1255cd-86d2-42de-806a-23c9454278aa",
   "metadata": {},
   "outputs": [
    {
     "data": {
      "text/plain": [
       "<weakref at 0x0000029F6A48E070; dead>"
      ]
     },
     "execution_count": 2,
     "metadata": {},
     "output_type": "execute_result"
    }
   ],
   "source": [
    "a = None\n",
    "b"
   ]
  },
  {
   "cell_type": "markdown",
   "id": "6401ff3c-0b2a-479d-8cd6-bb9a46f127ef",
   "metadata": {},
   "source": [
    "___________\n",
    " ### 실습"
   ]
  },
  {
   "cell_type": "code",
   "execution_count": 3,
   "id": "f5f35f2c-7531-446a-b507-d86846605057",
   "metadata": {},
   "outputs": [],
   "source": [
    "import weakref\n",
    "import numpy as np"
   ]
  },
  {
   "cell_type": "code",
   "execution_count": 4,
   "id": "c790e1db-0979-488c-90c1-f8c120c1387a",
   "metadata": {},
   "outputs": [],
   "source": [
    "class Function:\n",
    "    def __call__(self, *inputs):\n",
    "        xs = [x.data for x in inputs]\n",
    "        ys = self.forward(*xs)\n",
    "        if not isinstance(ys, tuple):\n",
    "            ys = (ys,)\n",
    "        outputs = [Variable(as_array(y)) for y in ys]\n",
    "\n",
    "        self.generation = max([x.generation for x in inputs])\n",
    "        for output in outputs:\n",
    "            output.set_creator(self)\n",
    "        self.inputs = inputs\n",
    "        self.outputs = [weakref.ref(output) for output in outputs]\n",
    "        return outputs if len(outputs) > 1 else outputs[0]\n",
    "\n",
    "    def forward(self, x):\n",
    "        raise NotImplementedError()\n",
    "\n",
    "    def backward(self, gy):\n",
    "        raise NotImplementedError()"
   ]
  },
  {
   "cell_type": "code",
   "execution_count": 23,
   "id": "b8bac22e-5602-4515-b1c4-b53fbf5e2658",
   "metadata": {},
   "outputs": [],
   "source": [
    "class Variable:\n",
    "    def __init__(self, data):\n",
    "        if data is not None:\n",
    "            if not isinstance(data, np.ndarray):\n",
    "                raise TypeError(f'{type(data)} is not surpported')\n",
    "        self.data = data\n",
    "        self.grad = None\n",
    "        self.creator = None\n",
    "        self.generation = 0\n",
    "\n",
    "    def set_creator(self, func):\n",
    "        self.creator = func\n",
    "        self.generation = func.generation + 1\n",
    "\n",
    "    def backward(self, retain_grad = False):\n",
    "        if self.grad is None:\n",
    "            self.grad = np.ones_like(self.data)   # self.data와 self.grad의 타입을 맞춤\n",
    "        \n",
    "        funcs = []\n",
    "        seen_set = set()\n",
    "\n",
    "        def add_func(f):\n",
    "            if f not in seen_set:\n",
    "                funcs.append(f)\n",
    "                seen_set.add(f)\n",
    "                funcs.sort(key=lambda x: x.generation)\n",
    "        add_func(self.creator)\n",
    "        \n",
    "        while funcs:\n",
    "            f = funcs.pop()\n",
    "            gys = [output().grad for output in f.outputs]\n",
    "            gxs = f.backward(*gys)\n",
    "            if not isinstance(gxs, tuple):\n",
    "                gxs = (gxs, )\n",
    "            for x, gx in zip(f.inputs, gxs):\n",
    "                if x. grad is None:\n",
    "                    x.grad = gx\n",
    "                else:\n",
    "                    x.grad = x.grad + gx\n",
    "\n",
    "            if x.creator is not None:\n",
    "                add_func(x.creator)\n",
    "\n",
    "        if not retain_grad:\n",
    "            for y in f.outputs:\n",
    "                y().grad = None\n",
    "\n",
    "\n",
    "    def cleargrad(self):\n",
    "        self.grad = None"
   ]
  },
  {
   "cell_type": "code",
   "execution_count": 74,
   "id": "f07b8090-194a-4c24-b156-7dff41d39bbf",
   "metadata": {},
   "outputs": [],
   "source": [
    "class Square(Function):\n",
    "    def forward(self, x):\n",
    "        y = x ** 2\n",
    "        return y\n",
    "\n",
    "    def backward(self, gy):\n",
    "        x = self.inputs[0].data\n",
    "        gx = 2 * x * gy\n",
    "        return gx\n",
    "\n",
    "def square(x):\n",
    "    return Square()(x)\n",
    "\n",
    "class Add(Function):\n",
    "    def forward(self, x0, x1):\n",
    "        y = x0 + x1\n",
    "        return y\n",
    "    def backward(self, gy):\n",
    "        return gy, gy\n",
    "\n",
    "def add(x0, x1):\n",
    "    return Add()(x0, x1)\n",
    "\n",
    "def as_array(x):\n",
    "    if np.isscalar(x):\n",
    "        return np.array(x)\n",
    "    return x"
   ]
  },
  {
   "cell_type": "code",
   "execution_count": 10,
   "id": "7540bd49-60ab-451c-b573-86c982ca5fa3",
   "metadata": {},
   "outputs": [],
   "source": [
    "for i in range(10):\n",
    "    x = Variable(np.random.randn(10000))\n",
    "    y = square(square(square(x)))"
   ]
  },
  {
   "cell_type": "code",
   "execution_count": 17,
   "id": "135cc4bc-3125-4c56-b043-bb29dcc1e0c6",
   "metadata": {},
   "outputs": [
    {
     "data": {
      "text/plain": [
       "103.59925231039455"
      ]
     },
     "execution_count": 17,
     "metadata": {},
     "output_type": "execute_result"
    }
   ],
   "source": [
    "y.data.mean()"
   ]
  },
  {
   "cell_type": "markdown",
   "id": "32c47765-7893-4141-843d-1e9480f836a2",
   "metadata": {},
   "source": [
    "# 챕터 18 메모리 절약 모드\n",
    "\n",
    "## DeZero의 메모리 사용을 개선할 수 있는 구조\n",
    "\n",
    "* 역전파 시 사용하는 메모리양을 줄이는 방법\n",
    "* 역전파가 필요 없는 경우일 때의 모드를 제공"
   ]
  },
  {
   "cell_type": "code",
   "execution_count": 24,
   "id": "00d586f8-9e7b-4621-a429-171ce5dab38d",
   "metadata": {},
   "outputs": [
    {
     "name": "stdout",
     "output_type": "stream",
     "text": [
      "1.0 None\n",
      "1.0 1.0\n"
     ]
    }
   ],
   "source": [
    "x0 = Variable(np.array(1.0))\n",
    "x1 = Variable(np.array(1.0))\n",
    "t = add(x0, x1)\n",
    "y = add(x0, t)\n",
    "y.backward()\n",
    "\n",
    "print(y.grad, t.grad)\n",
    "print(x1.grad, x1.grad)"
   ]
  },
  {
   "cell_type": "code",
   "execution_count": 25,
   "id": "a11206e9-0519-4458-ba9a-5a4fca9df702",
   "metadata": {},
   "outputs": [],
   "source": [
    "class Config:\n",
    "    enable_backprop = True\n",
    "\n",
    "class Function:\n",
    "    def __call__(self, *inputs):\n",
    "        xs = [x.data for x in inputs]\n",
    "        ys = self.forward(*xs)\n",
    "        if not isinstance(ys, tuple):\n",
    "            ys = (ys,)\n",
    "        outputs = [Variable(as_array(y)) for y in ys]\n",
    "        \n",
    "        if Config.enable_backprop:\n",
    "            self.generation = max([x.generation for x in inputs])\n",
    "            for output in outputs:\n",
    "                output.set_creator(self)\n",
    "            self.inputs = inputs\n",
    "            self.outputs = [weakref.ref(output) for output in outputs]\n",
    "        return outputs if len(outputs) > 1 else outputs[0]\n",
    "\n",
    "    def forward(self, x):\n",
    "        raise NotImplementedError()\n",
    "\n",
    "    def backward(self, gy):\n",
    "        raise NotImplementedError()\n",
    "\n",
    "class Variable:\n",
    "    def __init__(self, data):\n",
    "        if data is not None:\n",
    "            if not isinstance(data, np.ndarray):\n",
    "                raise TypeError(f'{type(data)} is not surpported')\n",
    "        self.data = data\n",
    "        self.grad = None\n",
    "        self.creator = None\n",
    "        self.generation = 0\n",
    "\n",
    "    def set_creator(self, func):\n",
    "        self.creator = func\n",
    "        self.generation = func.generation + 1\n",
    "\n",
    "    def backward(self, retain_grad = False):\n",
    "        if self.grad is None:\n",
    "            self.grad = np.ones_like(self.data)   # self.data와 self.grad의 타입을 맞춤\n",
    "        \n",
    "        funcs = []\n",
    "        seen_set = set()\n",
    "\n",
    "        def add_func(f):\n",
    "            if f not in seen_set:\n",
    "                funcs.append(f)\n",
    "                seen_set.add(f)\n",
    "                funcs.sort(key=lambda x: x.generation)\n",
    "        add_func(self.creator)\n",
    "        \n",
    "        while funcs:\n",
    "            f = funcs.pop()\n",
    "            gys = [output().grad for output in f.outputs]\n",
    "            gxs = f.backward(*gys)\n",
    "            if not isinstance(gxs, tuple):\n",
    "                gxs = (gxs, )\n",
    "            for x, gx in zip(f.inputs, gxs):\n",
    "                if x. grad is None:\n",
    "                    x.grad = gx\n",
    "                else:\n",
    "                    x.grad = x.grad + gx\n",
    "\n",
    "            if x.creator is not None:\n",
    "                add_func(x.creator)\n",
    "\n",
    "        if not retain_grad:\n",
    "            for y in f.outputs:\n",
    "                y().grad = None\n",
    "\n",
    "\n",
    "    def cleargrad(self):\n",
    "        self.grad = None"
   ]
  },
  {
   "cell_type": "code",
   "execution_count": 44,
   "id": "ba0f5f09-e4be-4fcc-a86d-53acfe127449",
   "metadata": {},
   "outputs": [],
   "source": [
    "Config.enable_backprop = True # 중간 결과 저장\n",
    "x = Variable(np.ones((100, 100, 100)))\n",
    "y = square(square(square(x)))\n",
    "y.backward()"
   ]
  },
  {
   "cell_type": "code",
   "execution_count": 31,
   "id": "0e634482-94bb-4618-89ff-1f830a64d3a9",
   "metadata": {},
   "outputs": [],
   "source": [
    "Config.enable_backprop = False # 중간 결과 삭제\n",
    "x = Variable(np.ones((100, 100, 100)))\n",
    "y = square(square(square(x)))\n",
    "y.backward()"
   ]
  },
  {
   "cell_type": "markdown",
   "id": "1facad7b-7309-49f3-a0fc-16994324c6fb",
   "metadata": {},
   "source": [
    "## with 를 사용한 모드 전환 "
   ]
  },
  {
   "cell_type": "code",
   "execution_count": 33,
   "id": "a4b36d42-7277-4473-9829-c2ad0ce59739",
   "metadata": {},
   "outputs": [],
   "source": [
    "import contextlib"
   ]
  },
  {
   "cell_type": "code",
   "execution_count": 35,
   "id": "69d49039-db83-4a0b-8fc6-12ed3f214517",
   "metadata": {},
   "outputs": [
    {
     "name": "stdout",
     "output_type": "stream",
     "text": [
      "start\n",
      "process...\n",
      "done\n"
     ]
    }
   ],
   "source": [
    "# 기본형\n",
    "\n",
    "@contextlib.contextmanager\n",
    "def config_test():\n",
    "    print('start')\n",
    "    try:\n",
    "        yield\n",
    "    finally:\n",
    "        print('done')\n",
    "\n",
    "with config_test():\n",
    "    print('process...')"
   ]
  },
  {
   "cell_type": "code",
   "execution_count": 37,
   "id": "75d81192-8949-47aa-ab8c-78486e958b36",
   "metadata": {},
   "outputs": [
    {
     "ename": "TypeError",
     "evalue": "config_test() missing 2 required positional arguments: 'name' and 'value'",
     "output_type": "error",
     "traceback": [
      "\u001b[1;31m---------------------------------------------------------------------------\u001b[0m",
      "\u001b[1;31mTypeError\u001b[0m                                 Traceback (most recent call last)",
      "Cell \u001b[1;32mIn[37], line 14\u001b[0m\n\u001b[0;32m     11\u001b[0m     \u001b[38;5;28;01mfinally\u001b[39;00m:\n\u001b[0;32m     12\u001b[0m         \u001b[38;5;28mprint\u001b[39m(\u001b[38;5;124m'\u001b[39m\u001b[38;5;124mdone\u001b[39m\u001b[38;5;124m'\u001b[39m)\n\u001b[1;32m---> 14\u001b[0m \u001b[38;5;28;01mwith\u001b[39;00m config_test():\n\u001b[0;32m     15\u001b[0m     \u001b[38;5;28mprint\u001b[39m(\u001b[38;5;124m'\u001b[39m\u001b[38;5;124mprocess...\u001b[39m\u001b[38;5;124m'\u001b[39m)\n\u001b[0;32m     17\u001b[0m \u001b[38;5;28;01mdef\u001b[39;00m \u001b[38;5;21mno_grad\u001b[39m():\n",
      "File \u001b[1;32m~\\anaconda3\\Lib\\contextlib.py:301\u001b[0m, in \u001b[0;36mcontextmanager.<locals>.helper\u001b[1;34m(*args, **kwds)\u001b[0m\n\u001b[0;32m    299\u001b[0m \u001b[38;5;129m@wraps\u001b[39m(func)\n\u001b[0;32m    300\u001b[0m \u001b[38;5;28;01mdef\u001b[39;00m \u001b[38;5;21mhelper\u001b[39m(\u001b[38;5;241m*\u001b[39margs, \u001b[38;5;241m*\u001b[39m\u001b[38;5;241m*\u001b[39mkwds):\n\u001b[1;32m--> 301\u001b[0m     \u001b[38;5;28;01mreturn\u001b[39;00m _GeneratorContextManager(func, args, kwds)\n",
      "File \u001b[1;32m~\\anaconda3\\Lib\\contextlib.py:105\u001b[0m, in \u001b[0;36m_GeneratorContextManagerBase.__init__\u001b[1;34m(self, func, args, kwds)\u001b[0m\n\u001b[0;32m    104\u001b[0m \u001b[38;5;28;01mdef\u001b[39;00m \u001b[38;5;21m__init__\u001b[39m(\u001b[38;5;28mself\u001b[39m, func, args, kwds):\n\u001b[1;32m--> 105\u001b[0m     \u001b[38;5;28mself\u001b[39m\u001b[38;5;241m.\u001b[39mgen \u001b[38;5;241m=\u001b[39m func(\u001b[38;5;241m*\u001b[39margs, \u001b[38;5;241m*\u001b[39m\u001b[38;5;241m*\u001b[39mkwds)\n\u001b[0;32m    106\u001b[0m     \u001b[38;5;28mself\u001b[39m\u001b[38;5;241m.\u001b[39mfunc, \u001b[38;5;28mself\u001b[39m\u001b[38;5;241m.\u001b[39margs, \u001b[38;5;28mself\u001b[39m\u001b[38;5;241m.\u001b[39mkwds \u001b[38;5;241m=\u001b[39m func, args, kwds\n\u001b[0;32m    107\u001b[0m     \u001b[38;5;66;03m# Issue 19330: ensure context manager instances have good docstrings\u001b[39;00m\n",
      "\u001b[1;31mTypeError\u001b[0m: config_test() missing 2 required positional arguments: 'name' and 'value'"
     ]
    }
   ],
   "source": [
    "class Config:\n",
    "    enable_backprop = True\n",
    "\n",
    "@contextlib.contextmanager\n",
    "def config_test(name, value):\n",
    "    old_value = getattr(Config, name)\n",
    "    setattr(Config, name, value)\n",
    "    print('start')\n",
    "    try:\n",
    "        yield\n",
    "    finally:\n",
    "        print('done')\n",
    "\n",
    "with config_test():\n",
    "    print('process...')\n",
    "\n",
    "def no_grad():\n",
    "    return using_config('enable_backdrop', False)\n",
    "\n",
    "with no_grad():\n",
    "    x = Variable(np.array(2.0))\n",
    "    y = square(x)"
   ]
  },
  {
   "cell_type": "code",
   "execution_count": 46,
   "id": "69f41da5-a237-46fe-9d0b-e280b1bfe244",
   "metadata": {
    "scrolled": true
   },
   "outputs": [],
   "source": [
    "class Config:\n",
    "    enable_backprop = True\n",
    "\n",
    "class Function:\n",
    "    def __call__(self, *inputs):\n",
    "        xs = [x.data for x in inputs]\n",
    "        ys = self.forward(*xs)\n",
    "        if not isinstance(ys, tuple):\n",
    "            ys = (ys,)\n",
    "        outputs = [Variable(as_array(y)) for y in ys]\n",
    "        \n",
    "        if Config.enable_backprop:\n",
    "            self.generation = max([x.generation for x in inputs])\n",
    "            for output in outputs:\n",
    "                output.set_creator(self)\n",
    "            self.inputs = inputs\n",
    "            self.outputs = [weakref.ref(output) for output in outputs]\n",
    "        return outputs if len(outputs) > 1 else outputs[0]\n",
    "\n",
    "    def forward(self, x):\n",
    "        raise NotImplementedError()\n",
    "\n",
    "    def backward(self, gy):\n",
    "        raise NotImplementedError()\n",
    "\n",
    "class Variable:\n",
    "    def __init__(self, data, name=None):\n",
    "        if data is not None:\n",
    "            if not isinstance(data, np.ndarray):\n",
    "                raise TypeError(f'{type(data)} is not surpported')\n",
    "        \n",
    "        self.data = data\n",
    "        self.name = None\n",
    "        self.grad = None\n",
    "        self.creator = None\n",
    "        self.generation = 0\n",
    "\n",
    "    def set_creator(self, func):\n",
    "        self.creator = func\n",
    "        self.generation = func.generation + 1\n",
    "\n",
    "    def backward(self, retain_grad = False):\n",
    "        if self.grad is None:\n",
    "            self.grad = np.ones_like(self.data)   # self.data와 self.grad의 타입을 맞춤\n",
    "        \n",
    "        funcs = []\n",
    "        seen_set = set()\n",
    "\n",
    "        def add_func(f):\n",
    "            if f not in seen_set:\n",
    "                funcs.append(f)\n",
    "                seen_set.add(f)\n",
    "                funcs.sort(key=lambda x: x.generation)\n",
    "        add_func(self.creator)\n",
    "        \n",
    "        while funcs:\n",
    "            f = funcs.pop()\n",
    "            gys = [output().grad for output in f.outputs]\n",
    "            gxs = f.backward(*gys)\n",
    "            if not isinstance(gxs, tuple):\n",
    "                gxs = (gxs, )\n",
    "            for x, gx in zip(f.inputs, gxs):\n",
    "                if x. grad is None:\n",
    "                    x.grad = gx\n",
    "                else:\n",
    "                    x.grad = x.grad + gx\n",
    "\n",
    "            if x.creator is not None:\n",
    "                add_func(x.creator)\n",
    "\n",
    "        if not retain_grad:\n",
    "            for y in f.outputs:\n",
    "                y().grad = None\n",
    "\n",
    "    def cleargrad(self):\n",
    "        self.grad = None\n",
    "\n",
    "    def __mul__(self, other):\n",
    "        return mul(self, other)\n",
    "\n",
    "    Variable.__mul__ = mul\n",
    "    Variable.__add__ = add\n",
    "\n",
    "    @property #밑 메소드를 인스턴스 변수처럼 사용할 수 있게 함\n",
    "    def shape(self):\n",
    "        return self.data.shape\n",
    "\n",
    "    @property\n",
    "    def ndim(self):\n",
    "        return self.data.ndim\n",
    "\n",
    "    @property\n",
    "    def size(self):\n",
    "        return self.data.size\n",
    "\n",
    "    @property\n",
    "    def dtype(self):\n",
    "        return self.data.dtype\n",
    "\n",
    "    def __len__(self):\n",
    "        return len(self.data)\n",
    "\n",
    "    def __repr__(self):\n",
    "        if self.data is None:\n",
    "            return 'variable(None)'\n",
    "        p = str(self.data).replace('\\n', '\\n' + ' ' * 9)\n",
    "        return 'variable(' + p + ')'"
   ]
  },
  {
   "cell_type": "markdown",
   "id": "f6cacb55-b9e7-445a-bae2-a8b7d7564d56",
   "metadata": {},
   "source": [
    "## 인스턴스 변수처럼 사용하기"
   ]
  },
  {
   "cell_type": "code",
   "execution_count": 41,
   "id": "de4ab1d9-dfe3-473a-9ed0-43ad147a642d",
   "metadata": {},
   "outputs": [
    {
     "name": "stdout",
     "output_type": "stream",
     "text": [
      "(2, 3)\n",
      "2\n",
      "variable([[1 2 3]\n",
      "          [4 5 6]])\n"
     ]
    }
   ],
   "source": [
    "x = Variable(np.array([[1, 2, 3], [4, 5, 6]]))\n",
    "print(x.shape)\n",
    "print(len(x))\n",
    "print(x)"
   ]
  },
  {
   "cell_type": "markdown",
   "id": "36e85f70-5970-48a8-a793-55f36696e749",
   "metadata": {},
   "source": [
    "## 연산자 오버로드 -> + 와 * 지원하기"
   ]
  },
  {
   "cell_type": "code",
   "execution_count": 93,
   "id": "be68bf03-ccb3-44c0-bf7b-bda49905ad31",
   "metadata": {},
   "outputs": [],
   "source": [
    "class Mul(Function):\n",
    "    def forward(self, x0, x1):\n",
    "        y = x0 * x1\n",
    "        return y\n",
    "\n",
    "    def backward(self, gy):\n",
    "        x0, x1 = self.inputs[0].data, self.inputs[1].data\n",
    "        return gy * x1, gy * x0\n",
    "\n",
    "def mul(x0, x1):\n",
    "    x1 = as_array(x1)\n",
    "    return Mul()(x0, x1)"
   ]
  },
  {
   "cell_type": "code",
   "execution_count": 94,
   "id": "29bd026d-cb8a-418f-94c9-3297f289eed2",
   "metadata": {},
   "outputs": [
    {
     "name": "stdout",
     "output_type": "stream",
     "text": [
      "variable(7.0)\n",
      "None\n",
      "None\n"
     ]
    }
   ],
   "source": [
    "a = Variable(np.array(3.0))\n",
    "b = Variable(np.array(2.0))\n",
    "c = Variable(np.array(1.0))\n",
    "\n",
    "y = add(mul(a, b), c)\n",
    "y.backward()\n",
    "\n",
    "print(y)\n",
    "print(a.grad)\n",
    "print(b.grad)"
   ]
  },
  {
   "cell_type": "code",
   "execution_count": 95,
   "id": "37a82176-2ca3-44b2-8b19-29ef348de499",
   "metadata": {},
   "outputs": [
    {
     "name": "stdout",
     "output_type": "stream",
     "text": [
      "variable(6.0)\n"
     ]
    }
   ],
   "source": [
    "a = Variable(np.array(3.0))\n",
    "b = Variable(np.array(2.0))\n",
    "y = a * b\n",
    "print(y)"
   ]
  },
  {
   "cell_type": "markdown",
   "id": "283a5917-575a-49f5-a519-7ac53d73be6f",
   "metadata": {},
   "source": [
    "## ndarray와 함께 사용하기"
   ]
  },
  {
   "cell_type": "code",
   "execution_count": 96,
   "id": "b4f57c7a-3300-48a9-a683-b3eb94e3414c",
   "metadata": {},
   "outputs": [],
   "source": [
    "class Square(Function):\n",
    "    def forward(self, x):\n",
    "        y = x ** 2\n",
    "        return y\n",
    "\n",
    "    def backward(self, gy):\n",
    "        x = self.inputs[0].data\n",
    "        gx = 2 * x * gy\n",
    "        return gx\n",
    "\n",
    "def square(x):\n",
    "    return Square()(x)\n",
    "\n",
    "class Add(Function):\n",
    "    def forward(self, x0, x1):\n",
    "        y = x0 + x1\n",
    "        return y\n",
    "    def backward(self, gy):\n",
    "        return gy, gy"
   ]
  },
  {
   "cell_type": "code",
   "execution_count": 97,
   "id": "27bf1a3c-a773-4753-9904-68fc6c6b90ca",
   "metadata": {},
   "outputs": [],
   "source": [
    "def as_variable(obj):\n",
    "    if isinstance(obj, Variable):\n",
    "        return obj\n",
    "    return Variable(obj)\n",
    "\n",
    "def as_array(x):\n",
    "    if np.isscalar(x):\n",
    "        return np.array(x)\n",
    "    return x\n",
    "\n",
    "def add(x0, x1):\n",
    "    x1 = as_array(x1)\n",
    "    return Add()(x0, x1)"
   ]
  },
  {
   "cell_type": "code",
   "execution_count": 98,
   "id": "1224eb86-e4b0-4a98-8ec5-052808132c11",
   "metadata": {},
   "outputs": [],
   "source": [
    "class Config:\n",
    "    enable_backprop = True\n",
    "\n",
    "class Function:\n",
    "    def __call__(self, *inputs):\n",
    "        inputs = [as_variable(x) for x in inputs]\n",
    "        xs = [x.data for x in inputs]\n",
    "        ys = self.forward(*xs)\n",
    "        if not isinstance(ys, tuple):\n",
    "            ys = (ys,)\n",
    "        outputs = [Variable(as_array(y)) for y in ys]\n",
    "        \n",
    "        if Config.enable_backprop:\n",
    "            self.generation = max([x.generation for x in inputs])\n",
    "            for output in outputs:\n",
    "                output.set_creator(self)\n",
    "            self.inputs = inputs\n",
    "            self.outputs = [weakref.ref(output) for output in outputs]\n",
    "        return outputs if len(outputs) > 1 else outputs[0]\n",
    "\n",
    "    def forward(self, x):\n",
    "        raise NotImplementedError()\n",
    "\n",
    "    def backward(self, gy):\n",
    "        raise NotImplementedError()\n",
    "\n",
    "class Variable:\n",
    "    def __init__(self, data, name=None):\n",
    "        if data is not None:\n",
    "            if not isinstance(data, np.ndarray):\n",
    "                raise TypeError(f'{type(data)} is not surpported')\n",
    "        \n",
    "        self.data = data\n",
    "        self.name = None\n",
    "        self.grad = None\n",
    "        self.creator = None\n",
    "        self.generation = 0\n",
    "\n",
    "    def set_creator(self, func):\n",
    "        self.creator = func\n",
    "        self.generation = func.generation + 1\n",
    "\n",
    "    def backward(self, retain_grad = False):\n",
    "        if self.grad is None:\n",
    "            self.grad = np.ones_like(self.data)   # self.data와 self.grad의 타입을 맞춤\n",
    "        \n",
    "        funcs = []\n",
    "        seen_set = set()\n",
    "\n",
    "        def add_func(f):\n",
    "            if f not in seen_set:\n",
    "                funcs.append(f)\n",
    "                seen_set.add(f)\n",
    "                funcs.sort(key=lambda x: x.generation)\n",
    "        add_func(self.creator)\n",
    "        \n",
    "        while funcs:\n",
    "            f = funcs.pop()\n",
    "            gys = [output().grad for output in f.outputs]\n",
    "            gxs = f.backward(*gys)\n",
    "            if not isinstance(gxs, tuple):\n",
    "                gxs = (gxs, )\n",
    "            for x, gx in zip(f.inputs, gxs):\n",
    "                if x. grad is None:\n",
    "                    x.grad = gx\n",
    "                else:\n",
    "                    x.grad = x.grad + gx\n",
    "\n",
    "            if x.creator is not None:\n",
    "                add_func(x.creator)\n",
    "\n",
    "        if not retain_grad:\n",
    "            for y in f.outputs:\n",
    "                y().grad = None\n",
    "\n",
    "    def cleargrad(self):\n",
    "        self.grad = None\n",
    "\n",
    "    def __mul__(self, other):\n",
    "        return mul(self, other)\n",
    "\n",
    "    def __add__(self, other):\n",
    "        return add(self, other)\n",
    "\n",
    "    Variable.__mul__ = mul\n",
    "    Variable.__add__ = add\n",
    "    Variable.__radd__ = add\n",
    "    Variable.__rmul__ = mul\n",
    "    __array_priority__ = 200\n",
    "\n",
    "    @property #밑 메소드를 인스턴스 변수처럼 사용할 수 있게 함\n",
    "    def shape(self):\n",
    "        return self.data.shape\n",
    "\n",
    "    @property\n",
    "    def ndim(self):\n",
    "        return self.data.ndim\n",
    "\n",
    "    @property\n",
    "    def size(self):\n",
    "        return self.data.size\n",
    "\n",
    "    @property\n",
    "    def dtype(self):\n",
    "        return self.data.dtype\n",
    "\n",
    "    def __len__(self):\n",
    "        return len(self.data)\n",
    "\n",
    "    def __repr__(self):\n",
    "        if self.data is None:\n",
    "            return 'variable(None)'\n",
    "        p = str(self.data).replace('\\n', '\\n' + ' ' * 9)\n",
    "        return 'variable(' + p + ')'"
   ]
  },
  {
   "cell_type": "code",
   "execution_count": 100,
   "id": "367f6e2b-d72e-4ba2-a732-ed8afe0584ee",
   "metadata": {},
   "outputs": [
    {
     "name": "stdout",
     "output_type": "stream",
     "text": [
      "variable(14.0)\n"
     ]
    }
   ],
   "source": [
    "x = Variable(np.array(2.0))\n",
    "y = x * 5.0 + 4\n",
    "print(y)"
   ]
  },
  {
   "cell_type": "markdown",
   "id": "2fd1d04e-f647-4fee-97ee-831c57afda60",
   "metadata": {},
   "source": [
    "# 연산자들 추가"
   ]
  },
  {
   "cell_type": "code",
   "execution_count": 106,
   "id": "a128dade-46b6-4209-b673-65937177b75c",
   "metadata": {},
   "outputs": [],
   "source": [
    "class Neg(Function):\n",
    "    def forward(self, x):\n",
    "        return -x\n",
    "\n",
    "    def backward(self, gy):\n",
    "        return -gy\n",
    "\n",
    "def neg(x):\n",
    "    return Neg()(x)\n",
    "\n",
    "Variable.__neg__ = neg\n",
    "\n",
    "class Sub(Function):\n",
    "    def forward(self, x0, x1):\n",
    "        y = x0 - x1\n",
    "        return y\n",
    "\n",
    "    def backward(self, gy):\n",
    "        return gy, -gy\n",
    "\n",
    "def sub(x0, x1):\n",
    "    x1 = as_array(x)\n",
    "    return Sub()(x0, x1)\n",
    "\n",
    "Variable.__sub__ = sub\n",
    "\n",
    "def rsub(x0, x1):\n",
    "    x1 = as_array(x1)\n",
    "    return sub(x1, x0)\n",
    "\n",
    "Variable.__rsub__ = rsub\n",
    "\n",
    "class Div(Function):\n",
    "    def forward(self, x0, x1):\n",
    "        y = x0 / x1\n",
    "        return y\n",
    "\n",
    "    def backward(self, gy):\n",
    "        x0, x1 = self.inputs[0].data, self.inputs[1].data\n",
    "        gx0 = gy / x1\n",
    "        gx1 = gy * (-x0 / x1 ** 2)\n",
    "        return gx0, gx1\n",
    "\n",
    "def div(x0, x1):\n",
    "    x1 = as_array(x1)\n",
    "    return Div()(x0, x1)\n",
    "\n",
    "def rdiv(x0, x1):\n",
    "    x1 = as_array(x1)\n",
    "    return div(x1, x0)\n",
    "\n",
    "Variable.__truediv__ = div\n",
    "Variable.__rtruediv__ = rdiv\n",
    "\n",
    "class Pow(Function):\n",
    "    def __init__(self, c):\n",
    "        self.c = c\n",
    "\n",
    "    def forward(self, x):\n",
    "        y = x ** self.c\n",
    "        return y\n",
    "\n",
    "    def backward(self, gy):\n",
    "        x = self.inputs[0].data\n",
    "        c = self.c\n",
    "        gx = c * x ** (c - 1) * gy\n",
    "        return gx\n",
    "\n",
    "def pow(x, c):\n",
    "    return Pow(c)(x)\n",
    "\n",
    "Variable.__pow__ = pow"
   ]
  },
  {
   "cell_type": "code",
   "execution_count": 107,
   "id": "12c54dfc-6ab8-4339-8e16-b38c4fbd15d1",
   "metadata": {},
   "outputs": [
    {
     "name": "stdout",
     "output_type": "stream",
     "text": [
      "variable(-125.0)\n"
     ]
    }
   ],
   "source": [
    "x = Variable(np.array(5.0))\n",
    "y = -x ** 3\n",
    "print(y)"
   ]
  },
  {
   "cell_type": "markdown",
   "id": "4ad3507a-2170-4562-88d4-4dc19ec838aa",
   "metadata": {},
   "source": [
    "# 7주차 : 고차 미분"
   ]
  },
  {
   "cell_type": "code",
   "execution_count": 1,
   "id": "674f2f3a-e477-43be-bea9-93f2faa11331",
   "metadata": {},
   "outputs": [],
   "source": [
    "import numpy as np\n",
    "from mydezero.core import *\n",
    "import sys"
   ]
  },
  {
   "cell_type": "code",
   "execution_count": 2,
   "id": "dac06a58-1812-4a87-966a-d7108d51a6fd",
   "metadata": {},
   "outputs": [],
   "source": [
    "def f(x):\n",
    "    y = x ** 4 - 2 * x ** 2\n",
    "    return y"
   ]
  },
  {
   "cell_type": "code",
   "execution_count": 3,
   "id": "39148c6a-4b1d-434f-875d-063f571a75ee",
   "metadata": {},
   "outputs": [
    {
     "name": "stdout",
     "output_type": "stream",
     "text": [
      "variable(24.0)\n",
      "variable(24.0)\n"
     ]
    }
   ],
   "source": [
    "x = Variable(np.array(2.0))\n",
    "y = f(x)\n",
    "y.backward(create_graph=True)\n",
    "print(x.grad)\n",
    "\n",
    "gx = x.grad\n",
    "gx.backward()\n",
    "print(x.grad)"
   ]
  },
  {
   "cell_type": "code",
   "execution_count": 4,
   "id": "d68b8eb4-fdf8-4b10-82e9-a59b8a2289f7",
   "metadata": {},
   "outputs": [
    {
     "name": "stdout",
     "output_type": "stream",
     "text": [
      "variable(24.0)\n",
      "None\n"
     ]
    }
   ],
   "source": [
    "def f(x):\n",
    "    y = x ** 4 - 2 * x ** 2\n",
    "    return y\n",
    "\n",
    "x = Variable(np.array(2.0))\n",
    "y = f(x)\n",
    "y.backward(create_graph=True)\n",
    "print(x.grad)\n",
    "\n",
    "gx = x.grad\n",
    "x.cleargrad()\n",
    "gx.backward()\n",
    "print(x.grad)"
   ]
  },
  {
   "cell_type": "code",
   "execution_count": 5,
   "id": "d64d81e5-bdfb-47b1-aaee-5ee7ee0c2002",
   "metadata": {},
   "outputs": [
    {
     "name": "stdout",
     "output_type": "stream",
     "text": [
      "0 variable(2.0)\n"
     ]
    },
    {
     "ename": "AttributeError",
     "evalue": "'NoneType' object has no attribute 'data'",
     "output_type": "error",
     "traceback": [
      "\u001b[1;31m---------------------------------------------------------------------------\u001b[0m",
      "\u001b[1;31mAttributeError\u001b[0m                            Traceback (most recent call last)",
      "Cell \u001b[1;32mIn[5], line 16\u001b[0m\n\u001b[0;32m     13\u001b[0m gx\u001b[38;5;241m.\u001b[39mbackward()\n\u001b[0;32m     14\u001b[0m gx2 \u001b[38;5;241m=\u001b[39m x\u001b[38;5;241m.\u001b[39mgrad\n\u001b[1;32m---> 16\u001b[0m x\u001b[38;5;241m.\u001b[39mdata \u001b[38;5;241m-\u001b[39m\u001b[38;5;241m=\u001b[39m gx\u001b[38;5;241m.\u001b[39mdata \u001b[38;5;241m/\u001b[39m gx2\u001b[38;5;241m.\u001b[39mdata\n",
      "\u001b[1;31mAttributeError\u001b[0m: 'NoneType' object has no attribute 'data'"
     ]
    }
   ],
   "source": [
    "x = Variable(np.array(2.0))\n",
    "iters = 10\n",
    "\n",
    "for i in range(iters):\n",
    "    print(i, x)\n",
    "\n",
    "    y = f(x)\n",
    "    x.cleargrad()\n",
    "    y.backward(create_graph=True)\n",
    "\n",
    "    gx = x.grad\n",
    "    x.cleargrad()\n",
    "    gx.backward()\n",
    "    gx2 = x.grad\n",
    "\n",
    "    x.data -= gx.data / gx2.data"
   ]
  }
 ],
 "metadata": {
  "kernelspec": {
   "display_name": "Python 3 (ipykernel)",
   "language": "python",
   "name": "python3"
  },
  "language_info": {
   "codemirror_mode": {
    "name": "ipython",
    "version": 3
   },
   "file_extension": ".py",
   "mimetype": "text/x-python",
   "name": "python",
   "nbconvert_exporter": "python",
   "pygments_lexer": "ipython3",
   "version": "3.11.3"
  }
 },
 "nbformat": 4,
 "nbformat_minor": 5
}
